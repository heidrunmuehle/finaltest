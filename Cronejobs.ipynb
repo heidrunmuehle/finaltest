{
  "nbformat": 4,
  "nbformat_minor": 0,
  "metadata": {
    "colab": {
      "name": "Cronejobs.ipynb",
      "provenance": [],
      "authorship_tag": "ABX9TyOpTTJAwkI5HMJzoPmTXtuH",
      "include_colab_link": true
    },
    "kernelspec": {
      "name": "python3",
      "display_name": "Python 3"
    },
    "language_info": {
      "name": "python"
    }
  },
  "cells": [
    {
      "cell_type": "markdown",
      "metadata": {
        "id": "view-in-github",
        "colab_type": "text"
      },
      "source": [
        "<a href=\"https://colab.research.google.com/github/heidrunmuehle/finaltest/blob/main/Cronejobs.ipynb\" target=\"_parent\"><img src=\"https://colab.research.google.com/assets/colab-badge.svg\" alt=\"Open In Colab\"/></a>"
      ]
    },
    {
      "cell_type": "code",
      "execution_count": null,
      "metadata": {
        "id": "_qpnCrtEVp6g"
      },
      "outputs": [],
      "source": [
        "from datetime import datetime\n",
        "import pandas as pd\n",
        "import requests"
      ]
    },
    {
      "cell_type": "code",
      "source": [
        "SOURCES_PATH = os.path.join(\"input\", \"web-sources.csv\")\n",
        "STORAGE_PATH = os.path.join(\"data-lake\")"
      ],
      "metadata": {
        "id": "gVEvL2_3WKrd"
      },
      "execution_count": null,
      "outputs": []
    },
    {
      "cell_type": "code",
      "source": [
        "web_sources = pd.read_csv(SOURCES_PATH)\n",
        "web_sources.head()\n",
        "\n",
        "\n"
      ],
      "metadata": {
        "id": "SrtXn65dXh02"
      },
      "execution_count": null,
      "outputs": []
    },
    {
      "cell_type": "code",
      "source": [
        "# Current date as string\n",
        "now = datetime.now()\n",
        "now_str = now.strftime(\"%Y-%m-%d\")\n",
        "print(\"Date:\", now_str)"
      ],
      "metadata": {
        "id": "q4YP1O7UXh-F"
      },
      "execution_count": null,
      "outputs": []
    },
    {
      "cell_type": "code",
      "source": [
        "# ordner anlegen damit man weiß wo was hingespeichert, Hilfspakete \n",
        "content_dict = {}\n",
        "text_dict = {}\n",
        "log_list = []\n",
        "failing_list = []"
      ],
      "metadata": {
        "id": "oR0SB96XXiB3"
      },
      "execution_count": null,
      "outputs": []
    },
    {
      "cell_type": "code",
      "source": [
        "def scrape_website(name, url):\n",
        "\n",
        "    # (1) Run request\n",
        "    response = requests.get(url, allow_redirects=True)\n",
        "    content = response.content\n",
        "    text = response.text\n",
        "\n",
        "    # (2) File name to store the raw HTML\n",
        "    file_name = os.path.join(\n",
        "        STORAGE_PATH,\n",
        "        f\"{now_str}-{name}.html\",\n",
        "    )\n",
        "\n",
        "    # (3) Write raw HTML\n",
        "    with open(file_name, \"wb\") as f:\n",
        "        f.write(response.content)\n",
        "\n",
        "    # (4) Fill content_dict and text_dict\n",
        "    content_dict[name] = response.content\n",
        "    text_dict[name] = response.text\n",
        "\n",
        "    # (5) Fill log_list\n",
        "    log_info = dict(\n",
        "        name=name,\n",
        "        date=now_str,\n",
        "        file_name=file_name,\n",
        "        status=response.status_code,\n",
        "        original_url=url,\n",
        "        final_url=response.url,\n",
        "        encoding=response.encoding,\n",
        "    )\n",
        "    log_list.append(log_info)\n",
        "\n",
        "def scrape_wrapper(newspaper):\n",
        "    url = newspaper[\"url\"]\n",
        "    name = newspaper[\"id\"]\n",
        "    try:\n",
        "        scrape_website(name, url)\n",
        "        print(f\"[INFO] Scraped {name} ({url})\")\n",
        "    except:\n",
        "        failing_list.append((name, url))\n",
        "        print(f\"[ERROR] Failed to scrape: {name} ({url})\")\n"
      ],
      "metadata": {
        "id": "L4rQDxq6XiDr"
      },
      "execution_count": null,
      "outputs": []
    },
    {
      "cell_type": "code",
      "source": [
        "web_sources.apply(scrape_wrapper, axis=1)\n",
        "\n",
        "log_file_name = os.path.join(\n",
        "    STORAGE_PATH,\n",
        "    f\"{now_str}.csv\",\n",
        ")\n",
        "log_df = pd.DataFrame(log_list)\n",
        "log_df.to_csv(log_file_name)\n"
      ],
      "metadata": {
        "id": "NLzHK2OTX2qX"
      },
      "execution_count": null,
      "outputs": []
    }
  ]
}